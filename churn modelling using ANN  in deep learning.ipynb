{
 "cells": [
  {
   "cell_type": "code",
   "execution_count": 3,
   "metadata": {
    "colab": {
     "base_uri": "https://localhost:8080/",
     "height": 122
    },
    "colab_type": "code",
    "executionInfo": {
     "elapsed": 137618,
     "status": "ok",
     "timestamp": 1592893653977,
     "user": {
      "displayName": "karthick natarajan",
      "photoUrl": "https://lh3.googleusercontent.com/a-/AOh14GhQaM2HGsf-1_an6OkM8fcNmuVYdeVXWyh1Sfgk=s64",
      "userId": "11952060404549717129"
     },
     "user_tz": -330
    },
    "id": "oEL3SL9YyZIV",
    "outputId": "d4281ec0-5b5a-4ffc-f392-93ead9baebd7"
   },
   "outputs": [
    {
     "name": "stdout",
     "output_type": "stream",
     "text": [
      "Go to this URL in a browser: https://accounts.google.com/o/oauth2/auth?client_id=947318989803-6bn6qk8qdgf4n4g3pfee6491hc0brc4i.apps.googleusercontent.com&redirect_uri=urn%3aietf%3awg%3aoauth%3a2.0%3aoob&response_type=code&scope=email%20https%3a%2f%2fwww.googleapis.com%2fauth%2fdocs.test%20https%3a%2f%2fwww.googleapis.com%2fauth%2fdrive%20https%3a%2f%2fwww.googleapis.com%2fauth%2fdrive.photos.readonly%20https%3a%2f%2fwww.googleapis.com%2fauth%2fpeopleapi.readonly\n",
      "\n",
      "Enter your authorization code:\n",
      "··········\n",
      "Mounted at /content/drive\n"
     ]
    }
   ],
   "source": [
    "from google.colab import drive\n",
    "drive.mount('/content/drive')"
   ]
  },
  {
   "cell_type": "code",
   "execution_count": 4,
   "metadata": {
    "colab": {},
    "colab_type": "code",
    "executionInfo": {
     "elapsed": 7886,
     "status": "ok",
     "timestamp": 1592893738423,
     "user": {
      "displayName": "karthick natarajan",
      "photoUrl": "https://lh3.googleusercontent.com/a-/AOh14GhQaM2HGsf-1_an6OkM8fcNmuVYdeVXWyh1Sfgk=s64",
      "userId": "11952060404549717129"
     },
     "user_tz": -330
    },
    "id": "82FvcvEB3Klo"
   },
   "outputs": [],
   "source": [
    "!pip install -q keras"
   ]
  },
  {
   "cell_type": "code",
   "execution_count": 5,
   "metadata": {
    "colab": {},
    "colab_type": "code",
    "executionInfo": {
     "elapsed": 1902,
     "status": "ok",
     "timestamp": 1592893762505,
     "user": {
      "displayName": "karthick natarajan",
      "photoUrl": "https://lh3.googleusercontent.com/a-/AOh14GhQaM2HGsf-1_an6OkM8fcNmuVYdeVXWyh1Sfgk=s64",
      "userId": "11952060404549717129"
     },
     "user_tz": -330
    },
    "id": "4olf8iu83Kps"
   },
   "outputs": [],
   "source": [
    "import pandas as pd"
   ]
  },
  {
   "cell_type": "code",
   "execution_count": 7,
   "metadata": {
    "colab": {
     "base_uri": "https://localhost:8080/",
     "height": 1000
    },
    "colab_type": "code",
    "executionInfo": {
     "elapsed": 183351,
     "status": "ok",
     "timestamp": 1592894631639,
     "user": {
      "displayName": "karthick natarajan",
      "photoUrl": "https://lh3.googleusercontent.com/a-/AOh14GhQaM2HGsf-1_an6OkM8fcNmuVYdeVXWyh1Sfgk=s64",
      "userId": "11952060404549717129"
     },
     "user_tz": -330
    },
    "id": "Nj8sAGW13Kwh",
    "outputId": "d667993e-c84a-4e39-a81a-34299c6b418a"
   },
   "outputs": [
    {
     "name": "stderr",
     "output_type": "stream",
     "text": [
      "/usr/local/lib/python3.6/dist-packages/ipykernel_launcher.py:46: UserWarning: Update your `Dense` call to the Keras 2 API: `Dense(activation=\"relu\", input_dim=11, units=6, kernel_initializer=\"he_uniform\")`\n",
      "/usr/local/lib/python3.6/dist-packages/ipykernel_launcher.py:49: UserWarning: Update your `Dense` call to the Keras 2 API: `Dense(activation=\"relu\", units=6, kernel_initializer=\"he_uniform\")`\n",
      "/usr/local/lib/python3.6/dist-packages/ipykernel_launcher.py:51: UserWarning: Update your `Dense` call to the Keras 2 API: `Dense(activation=\"sigmoid\", units=1, kernel_initializer=\"glorot_uniform\")`\n",
      "/usr/local/lib/python3.6/dist-packages/ipykernel_launcher.py:57: UserWarning: The `nb_epoch` argument in `fit` has been renamed `epochs`.\n"
     ]
    },
    {
     "name": "stdout",
     "output_type": "stream",
     "text": [
      "Train on 5359 samples, validate on 2641 samples\n",
      "Epoch 1/100\n",
      "5359/5359 [==============================] - 2s 374us/step - loss: 0.5713 - accuracy: 0.7455 - val_loss: 0.5149 - val_accuracy: 0.7955\n",
      "Epoch 2/100\n",
      "5359/5359 [==============================] - 2s 360us/step - loss: 0.4944 - accuracy: 0.7962 - val_loss: 0.4885 - val_accuracy: 0.7955\n",
      "Epoch 3/100\n",
      "5359/5359 [==============================] - 2s 360us/step - loss: 0.4701 - accuracy: 0.7959 - val_loss: 0.4678 - val_accuracy: 0.7948\n",
      "Epoch 4/100\n",
      "5359/5359 [==============================] - 2s 364us/step - loss: 0.4500 - accuracy: 0.7983 - val_loss: 0.4498 - val_accuracy: 0.7989\n",
      "Epoch 5/100\n",
      "5359/5359 [==============================] - 2s 361us/step - loss: 0.4344 - accuracy: 0.8057 - val_loss: 0.4378 - val_accuracy: 0.8050\n",
      "Epoch 6/100\n",
      "5359/5359 [==============================] - 2s 360us/step - loss: 0.4243 - accuracy: 0.8087 - val_loss: 0.4304 - val_accuracy: 0.8050\n",
      "Epoch 7/100\n",
      "5359/5359 [==============================] - 2s 338us/step - loss: 0.4168 - accuracy: 0.8136 - val_loss: 0.4237 - val_accuracy: 0.8088\n",
      "Epoch 8/100\n",
      "5359/5359 [==============================] - 2s 327us/step - loss: 0.4107 - accuracy: 0.8149 - val_loss: 0.4186 - val_accuracy: 0.8137\n",
      "Epoch 9/100\n",
      "5359/5359 [==============================] - 2s 332us/step - loss: 0.4057 - accuracy: 0.8173 - val_loss: 0.4144 - val_accuracy: 0.8156\n",
      "Epoch 10/100\n",
      "5359/5359 [==============================] - 2s 329us/step - loss: 0.4018 - accuracy: 0.8220 - val_loss: 0.4102 - val_accuracy: 0.8175\n",
      "Epoch 11/100\n",
      "5359/5359 [==============================] - 2s 329us/step - loss: 0.3977 - accuracy: 0.8216 - val_loss: 0.4068 - val_accuracy: 0.8205\n",
      "Epoch 12/100\n",
      "5359/5359 [==============================] - 2s 339us/step - loss: 0.3940 - accuracy: 0.8253 - val_loss: 0.4035 - val_accuracy: 0.8224\n",
      "Epoch 13/100\n",
      "5359/5359 [==============================] - 2s 331us/step - loss: 0.3909 - accuracy: 0.8252 - val_loss: 0.4008 - val_accuracy: 0.8205\n",
      "Epoch 14/100\n",
      "5359/5359 [==============================] - 2s 330us/step - loss: 0.3872 - accuracy: 0.8268 - val_loss: 0.3990 - val_accuracy: 0.8220\n",
      "Epoch 15/100\n",
      "5359/5359 [==============================] - 2s 334us/step - loss: 0.3844 - accuracy: 0.8274 - val_loss: 0.3968 - val_accuracy: 0.8220\n",
      "Epoch 16/100\n",
      "5359/5359 [==============================] - 2s 331us/step - loss: 0.3816 - accuracy: 0.8294 - val_loss: 0.3958 - val_accuracy: 0.8232\n",
      "Epoch 17/100\n",
      "5359/5359 [==============================] - 2s 333us/step - loss: 0.3792 - accuracy: 0.8287 - val_loss: 0.3938 - val_accuracy: 0.8262\n",
      "Epoch 18/100\n",
      "5359/5359 [==============================] - 2s 336us/step - loss: 0.3775 - accuracy: 0.8291 - val_loss: 0.3923 - val_accuracy: 0.8258\n",
      "Epoch 19/100\n",
      "5359/5359 [==============================] - 2s 335us/step - loss: 0.3757 - accuracy: 0.8285 - val_loss: 0.3910 - val_accuracy: 0.8266\n",
      "Epoch 20/100\n",
      "5359/5359 [==============================] - 2s 326us/step - loss: 0.3739 - accuracy: 0.8291 - val_loss: 0.3901 - val_accuracy: 0.8251\n",
      "Epoch 21/100\n",
      "5359/5359 [==============================] - 2s 332us/step - loss: 0.3724 - accuracy: 0.8302 - val_loss: 0.3888 - val_accuracy: 0.8262\n",
      "Epoch 22/100\n",
      "5359/5359 [==============================] - 2s 327us/step - loss: 0.3713 - accuracy: 0.8315 - val_loss: 0.3879 - val_accuracy: 0.8251\n",
      "Epoch 23/100\n",
      "5359/5359 [==============================] - 2s 336us/step - loss: 0.3699 - accuracy: 0.8315 - val_loss: 0.3864 - val_accuracy: 0.8251\n",
      "Epoch 24/100\n",
      "5359/5359 [==============================] - 2s 337us/step - loss: 0.3688 - accuracy: 0.8315 - val_loss: 0.3856 - val_accuracy: 0.8307\n",
      "Epoch 25/100\n",
      "5359/5359 [==============================] - 2s 335us/step - loss: 0.3674 - accuracy: 0.8322 - val_loss: 0.3849 - val_accuracy: 0.8304\n",
      "Epoch 26/100\n",
      "5359/5359 [==============================] - 2s 338us/step - loss: 0.3668 - accuracy: 0.8324 - val_loss: 0.3839 - val_accuracy: 0.8277\n",
      "Epoch 27/100\n",
      "5359/5359 [==============================] - 2s 336us/step - loss: 0.3657 - accuracy: 0.8356 - val_loss: 0.3832 - val_accuracy: 0.8383\n",
      "Epoch 28/100\n",
      "5359/5359 [==============================] - 2s 334us/step - loss: 0.3645 - accuracy: 0.8462 - val_loss: 0.3823 - val_accuracy: 0.8387\n",
      "Epoch 29/100\n",
      "5359/5359 [==============================] - 2s 328us/step - loss: 0.3632 - accuracy: 0.8462 - val_loss: 0.3821 - val_accuracy: 0.8413\n",
      "Epoch 30/100\n",
      "5359/5359 [==============================] - 2s 333us/step - loss: 0.3624 - accuracy: 0.8483 - val_loss: 0.3805 - val_accuracy: 0.8395\n",
      "Epoch 31/100\n",
      "5359/5359 [==============================] - 2s 329us/step - loss: 0.3611 - accuracy: 0.8485 - val_loss: 0.3798 - val_accuracy: 0.8455\n",
      "Epoch 32/100\n",
      "5359/5359 [==============================] - 2s 339us/step - loss: 0.3606 - accuracy: 0.8485 - val_loss: 0.3788 - val_accuracy: 0.8463\n",
      "Epoch 33/100\n",
      "5359/5359 [==============================] - 2s 344us/step - loss: 0.3593 - accuracy: 0.8498 - val_loss: 0.3787 - val_accuracy: 0.8448\n",
      "Epoch 34/100\n",
      "5359/5359 [==============================] - 2s 334us/step - loss: 0.3583 - accuracy: 0.8513 - val_loss: 0.3784 - val_accuracy: 0.8440\n",
      "Epoch 35/100\n",
      "5359/5359 [==============================] - 2s 333us/step - loss: 0.3580 - accuracy: 0.8498 - val_loss: 0.3771 - val_accuracy: 0.8466\n",
      "Epoch 36/100\n",
      "5359/5359 [==============================] - 2s 339us/step - loss: 0.3574 - accuracy: 0.8507 - val_loss: 0.3771 - val_accuracy: 0.8466\n",
      "Epoch 37/100\n",
      "5359/5359 [==============================] - 2s 331us/step - loss: 0.3567 - accuracy: 0.8507 - val_loss: 0.3773 - val_accuracy: 0.8463\n",
      "Epoch 38/100\n",
      "5359/5359 [==============================] - 2s 325us/step - loss: 0.3562 - accuracy: 0.8518 - val_loss: 0.3763 - val_accuracy: 0.8466\n",
      "Epoch 39/100\n",
      "5359/5359 [==============================] - 2s 340us/step - loss: 0.3559 - accuracy: 0.8526 - val_loss: 0.3753 - val_accuracy: 0.8482\n",
      "Epoch 40/100\n",
      "5359/5359 [==============================] - 2s 330us/step - loss: 0.3545 - accuracy: 0.8546 - val_loss: 0.3763 - val_accuracy: 0.8482\n",
      "Epoch 41/100\n",
      "5359/5359 [==============================] - 2s 332us/step - loss: 0.3545 - accuracy: 0.8531 - val_loss: 0.3752 - val_accuracy: 0.8459\n",
      "Epoch 42/100\n",
      "5359/5359 [==============================] - 2s 333us/step - loss: 0.3538 - accuracy: 0.8543 - val_loss: 0.3756 - val_accuracy: 0.8455\n",
      "Epoch 43/100\n",
      "5359/5359 [==============================] - 2s 333us/step - loss: 0.3530 - accuracy: 0.8533 - val_loss: 0.3737 - val_accuracy: 0.8466\n",
      "Epoch 44/100\n",
      "5359/5359 [==============================] - 2s 334us/step - loss: 0.3526 - accuracy: 0.8546 - val_loss: 0.3729 - val_accuracy: 0.8485\n",
      "Epoch 45/100\n",
      "5359/5359 [==============================] - 2s 327us/step - loss: 0.3520 - accuracy: 0.8543 - val_loss: 0.3722 - val_accuracy: 0.8493\n",
      "Epoch 46/100\n",
      "5359/5359 [==============================] - 2s 331us/step - loss: 0.3513 - accuracy: 0.8559 - val_loss: 0.3719 - val_accuracy: 0.8501\n",
      "Epoch 47/100\n",
      "5359/5359 [==============================] - 2s 327us/step - loss: 0.3505 - accuracy: 0.8571 - val_loss: 0.3721 - val_accuracy: 0.8459\n",
      "Epoch 48/100\n",
      "5359/5359 [==============================] - 2s 337us/step - loss: 0.3501 - accuracy: 0.8563 - val_loss: 0.3711 - val_accuracy: 0.8485\n",
      "Epoch 49/100\n",
      "5359/5359 [==============================] - 2s 329us/step - loss: 0.3494 - accuracy: 0.8582 - val_loss: 0.3703 - val_accuracy: 0.8501\n",
      "Epoch 50/100\n",
      "5359/5359 [==============================] - 2s 331us/step - loss: 0.3481 - accuracy: 0.8591 - val_loss: 0.3766 - val_accuracy: 0.8474\n",
      "Epoch 51/100\n",
      "5359/5359 [==============================] - 2s 331us/step - loss: 0.3481 - accuracy: 0.8591 - val_loss: 0.3703 - val_accuracy: 0.8485\n",
      "Epoch 52/100\n",
      "5359/5359 [==============================] - 2s 332us/step - loss: 0.3476 - accuracy: 0.8571 - val_loss: 0.3693 - val_accuracy: 0.8523\n",
      "Epoch 53/100\n",
      "5359/5359 [==============================] - 2s 328us/step - loss: 0.3473 - accuracy: 0.8578 - val_loss: 0.3695 - val_accuracy: 0.8485\n",
      "Epoch 54/100\n",
      "5359/5359 [==============================] - 2s 337us/step - loss: 0.3462 - accuracy: 0.8582 - val_loss: 0.3691 - val_accuracy: 0.8527\n",
      "Epoch 55/100\n",
      "5359/5359 [==============================] - 2s 327us/step - loss: 0.3458 - accuracy: 0.8584 - val_loss: 0.3679 - val_accuracy: 0.8523\n",
      "Epoch 56/100\n",
      "5359/5359 [==============================] - 2s 324us/step - loss: 0.3451 - accuracy: 0.8586 - val_loss: 0.3673 - val_accuracy: 0.8497\n",
      "Epoch 57/100\n",
      "5359/5359 [==============================] - 2s 333us/step - loss: 0.3447 - accuracy: 0.8604 - val_loss: 0.3666 - val_accuracy: 0.8531\n",
      "Epoch 58/100\n",
      "5359/5359 [==============================] - 2s 333us/step - loss: 0.3438 - accuracy: 0.8591 - val_loss: 0.3655 - val_accuracy: 0.8523\n",
      "Epoch 59/100\n",
      "5359/5359 [==============================] - 2s 328us/step - loss: 0.3435 - accuracy: 0.8597 - val_loss: 0.3648 - val_accuracy: 0.8542\n",
      "Epoch 60/100\n",
      "5359/5359 [==============================] - 2s 340us/step - loss: 0.3425 - accuracy: 0.8602 - val_loss: 0.3652 - val_accuracy: 0.8538\n",
      "Epoch 61/100\n",
      "5359/5359 [==============================] - 2s 340us/step - loss: 0.3420 - accuracy: 0.8612 - val_loss: 0.3650 - val_accuracy: 0.8535\n",
      "Epoch 62/100\n",
      "5359/5359 [==============================] - 2s 329us/step - loss: 0.3417 - accuracy: 0.8628 - val_loss: 0.3636 - val_accuracy: 0.8546\n",
      "Epoch 63/100\n",
      "5359/5359 [==============================] - 2s 328us/step - loss: 0.3409 - accuracy: 0.8591 - val_loss: 0.3646 - val_accuracy: 0.8501\n",
      "Epoch 64/100\n",
      "5359/5359 [==============================] - 2s 327us/step - loss: 0.3410 - accuracy: 0.8621 - val_loss: 0.3627 - val_accuracy: 0.8550\n",
      "Epoch 65/100\n",
      "5359/5359 [==============================] - 2s 332us/step - loss: 0.3402 - accuracy: 0.8610 - val_loss: 0.3622 - val_accuracy: 0.8538\n",
      "Epoch 66/100\n",
      "5359/5359 [==============================] - 2s 342us/step - loss: 0.3391 - accuracy: 0.8612 - val_loss: 0.3667 - val_accuracy: 0.8474\n",
      "Epoch 67/100\n",
      "5359/5359 [==============================] - 2s 333us/step - loss: 0.3398 - accuracy: 0.8602 - val_loss: 0.3622 - val_accuracy: 0.8535\n",
      "Epoch 68/100\n",
      "5359/5359 [==============================] - 2s 336us/step - loss: 0.3391 - accuracy: 0.8617 - val_loss: 0.3614 - val_accuracy: 0.8538\n",
      "Epoch 69/100\n",
      "5359/5359 [==============================] - 2s 343us/step - loss: 0.3388 - accuracy: 0.8597 - val_loss: 0.3608 - val_accuracy: 0.8527\n",
      "Epoch 70/100\n",
      "5359/5359 [==============================] - 2s 337us/step - loss: 0.3382 - accuracy: 0.8612 - val_loss: 0.3614 - val_accuracy: 0.8557\n",
      "Epoch 71/100\n",
      "5359/5359 [==============================] - 2s 336us/step - loss: 0.3382 - accuracy: 0.8614 - val_loss: 0.3609 - val_accuracy: 0.8538\n",
      "Epoch 72/100\n",
      "5359/5359 [==============================] - 2s 340us/step - loss: 0.3376 - accuracy: 0.8606 - val_loss: 0.3599 - val_accuracy: 0.8554\n",
      "Epoch 73/100\n",
      "5359/5359 [==============================] - 2s 338us/step - loss: 0.3368 - accuracy: 0.8621 - val_loss: 0.3605 - val_accuracy: 0.8557\n",
      "Epoch 74/100\n",
      "5359/5359 [==============================] - 2s 345us/step - loss: 0.3368 - accuracy: 0.8599 - val_loss: 0.3593 - val_accuracy: 0.8538\n",
      "Epoch 75/100\n",
      "5359/5359 [==============================] - 2s 350us/step - loss: 0.3367 - accuracy: 0.8614 - val_loss: 0.3595 - val_accuracy: 0.8542\n",
      "Epoch 76/100\n",
      "5359/5359 [==============================] - 2s 340us/step - loss: 0.3361 - accuracy: 0.8608 - val_loss: 0.3592 - val_accuracy: 0.8554\n",
      "Epoch 77/100\n",
      "5359/5359 [==============================] - 2s 330us/step - loss: 0.3360 - accuracy: 0.8602 - val_loss: 0.3591 - val_accuracy: 0.8557\n",
      "Epoch 78/100\n",
      "5359/5359 [==============================] - 2s 333us/step - loss: 0.3354 - accuracy: 0.8628 - val_loss: 0.3604 - val_accuracy: 0.8550\n",
      "Epoch 79/100\n",
      "5359/5359 [==============================] - 2s 330us/step - loss: 0.3352 - accuracy: 0.8608 - val_loss: 0.3583 - val_accuracy: 0.8561\n",
      "Epoch 80/100\n",
      "5359/5359 [==============================] - 2s 333us/step - loss: 0.3348 - accuracy: 0.8642 - val_loss: 0.3581 - val_accuracy: 0.8550\n",
      "Epoch 81/100\n",
      "5359/5359 [==============================] - 2s 328us/step - loss: 0.3349 - accuracy: 0.8617 - val_loss: 0.3583 - val_accuracy: 0.8561\n",
      "Epoch 82/100\n",
      "5359/5359 [==============================] - 2s 332us/step - loss: 0.3345 - accuracy: 0.8632 - val_loss: 0.3583 - val_accuracy: 0.8550\n",
      "Epoch 83/100\n",
      "5359/5359 [==============================] - 2s 333us/step - loss: 0.3335 - accuracy: 0.8647 - val_loss: 0.3595 - val_accuracy: 0.8527\n",
      "Epoch 84/100\n",
      "5359/5359 [==============================] - 2s 329us/step - loss: 0.3342 - accuracy: 0.8649 - val_loss: 0.3584 - val_accuracy: 0.8557\n",
      "Epoch 85/100\n",
      "5359/5359 [==============================] - 2s 331us/step - loss: 0.3335 - accuracy: 0.8643 - val_loss: 0.3580 - val_accuracy: 0.8569\n",
      "Epoch 86/100\n",
      "5359/5359 [==============================] - 2s 336us/step - loss: 0.3335 - accuracy: 0.8612 - val_loss: 0.3579 - val_accuracy: 0.8569\n",
      "Epoch 87/100\n",
      "5359/5359 [==============================] - 2s 333us/step - loss: 0.3331 - accuracy: 0.8643 - val_loss: 0.3575 - val_accuracy: 0.8576\n",
      "Epoch 88/100\n",
      "5359/5359 [==============================] - 2s 332us/step - loss: 0.3334 - accuracy: 0.8627 - val_loss: 0.3571 - val_accuracy: 0.8565\n",
      "Epoch 89/100\n",
      "5359/5359 [==============================] - 2s 332us/step - loss: 0.3330 - accuracy: 0.8636 - val_loss: 0.3567 - val_accuracy: 0.8565\n",
      "Epoch 90/100\n",
      "5359/5359 [==============================] - 2s 335us/step - loss: 0.3327 - accuracy: 0.8634 - val_loss: 0.3571 - val_accuracy: 0.8569\n",
      "Epoch 91/100\n",
      "5359/5359 [==============================] - 2s 333us/step - loss: 0.3322 - accuracy: 0.8647 - val_loss: 0.3582 - val_accuracy: 0.8531\n",
      "Epoch 92/100\n",
      "5359/5359 [==============================] - 2s 332us/step - loss: 0.3326 - accuracy: 0.8625 - val_loss: 0.3563 - val_accuracy: 0.8561\n",
      "Epoch 93/100\n",
      "5359/5359 [==============================] - 2s 336us/step - loss: 0.3317 - accuracy: 0.8628 - val_loss: 0.3570 - val_accuracy: 0.8580\n",
      "Epoch 94/100\n",
      "5359/5359 [==============================] - 2s 335us/step - loss: 0.3320 - accuracy: 0.8645 - val_loss: 0.3580 - val_accuracy: 0.8550\n",
      "Epoch 95/100\n",
      "5359/5359 [==============================] - 2s 334us/step - loss: 0.3314 - accuracy: 0.8621 - val_loss: 0.3558 - val_accuracy: 0.8584\n",
      "Epoch 96/100\n",
      "5359/5359 [==============================] - 2s 329us/step - loss: 0.3311 - accuracy: 0.8627 - val_loss: 0.3601 - val_accuracy: 0.8523\n",
      "Epoch 97/100\n",
      "5359/5359 [==============================] - 2s 339us/step - loss: 0.3319 - accuracy: 0.8645 - val_loss: 0.3564 - val_accuracy: 0.8557\n",
      "Epoch 98/100\n",
      "5359/5359 [==============================] - 2s 331us/step - loss: 0.3310 - accuracy: 0.8642 - val_loss: 0.3580 - val_accuracy: 0.8546\n",
      "Epoch 99/100\n",
      "5359/5359 [==============================] - 2s 332us/step - loss: 0.3307 - accuracy: 0.8606 - val_loss: 0.3571 - val_accuracy: 0.8531\n",
      "Epoch 100/100\n",
      "5359/5359 [==============================] - 2s 329us/step - loss: 0.3308 - accuracy: 0.8649 - val_loss: 0.3559 - val_accuracy: 0.8584\n",
      "dict_keys(['val_loss', 'val_accuracy', 'loss', 'accuracy'])\n"
     ]
    },
    {
     "data": {
      "image/png": "[encoded data removed]",
      "text/plain": [
       "<Figure size 432x288 with 1 Axes>"
      ]
     },
     "metadata": {
      "needs_background": "light",
      "tags": []
     },
     "output_type": "display_data"
    },
    {
     "data": {
      "image/png": "[encoded data removed]",
      "text/plain": [
       "<Figure size 432x288 with 1 Axes>"
      ]
     },
     "metadata": {
      "needs_background": "light",
      "tags": []
     },
     "output_type": "display_data"
    }
   ],
   "source": [
    "# Importing the libraries\n",
    "import numpy as np\n",
    "import matplotlib.pyplot as plt\n",
    "import pandas as pd\n",
    "\n",
    "# Importing the dataset\n",
    "dataset = pd.read_csv('/content/drive/My Drive/Google colab/datasets_156197_358170_Churn_Modelling.csv')\n",
    "X = dataset.iloc[:, 3:13]\n",
    "y = dataset.iloc[:, 13]\n",
    "\n",
    "#Create dummy variables\n",
    "geography=pd.get_dummies(X[\"Geography\"],drop_first=True)\n",
    "gender=pd.get_dummies(X['Gender'],drop_first=True)\n",
    "\n",
    "## Concatenate the Data Frames\n",
    "\n",
    "X=pd.concat([X,geography,gender],axis=1)\n",
    "\n",
    "## Drop Unnecessary columns\n",
    "X=X.drop(['Geography','Gender'],axis=1)\n",
    "\n",
    "# Splitting the dataset into the Training set and Test set\n",
    "from sklearn.model_selection import train_test_split\n",
    "X_train, X_test, y_train, y_test = train_test_split(X, y, test_size = 0.2, random_state = 0)\n",
    "\n",
    "# Feature Scaling\n",
    "from sklearn.preprocessing import StandardScaler\n",
    "sc = StandardScaler()\n",
    "X_train = sc.fit_transform(X_train)\n",
    "X_test = sc.transform(X_test)\n",
    "\n",
    "# Part 2 - Now let's make the ANN!\n",
    "\n",
    "# Importing the Keras libraries and packages\n",
    "import keras\n",
    "from keras.models import Sequential\n",
    "from keras.layers import Dense\n",
    "from keras.layers import LeakyReLU,PReLU,ELU\n",
    "from keras.layers import Dropout\n",
    "\n",
    "\n",
    "# Initialising the ANN\n",
    "classifier = Sequential()\n",
    "\n",
    "# Adding the input layer and the first hidden layer\n",
    "classifier.add(Dense(output_dim = 6, init = 'he_uniform',activation='relu',input_dim = 11))\n",
    "\n",
    "# Adding the second hidden layer\n",
    "classifier.add(Dense(output_dim = 6, init = 'he_uniform',activation='relu'))\n",
    "# Adding the output layer\n",
    "classifier.add(Dense(output_dim = 1, init = 'glorot_uniform', activation = 'sigmoid'))\n",
    "\n",
    "# Compiling the ANN\n",
    "classifier.compile(optimizer = 'Adamax', loss = 'binary_crossentropy', metrics = ['accuracy'])\n",
    "\n",
    "# Fitting the ANN to the Training set\n",
    "model_history=classifier.fit(X_train, y_train,validation_split=0.33, batch_size = 10, nb_epoch = 100)\n",
    "\n",
    "# list all data in history\n",
    "\n",
    "print(model_history.history.keys())\n",
    "#summarize history for accuracy\n",
    "plt.plot(model_history.history['accuracy'])\n",
    "plt.plot(model_history.history['val_accuracy'])\n",
    "plt.title('model accuracy')\n",
    "plt.ylabel('accuracy')\n",
    "plt.xlabel('epoch')\n",
    "plt.legend(['train','test'],loc='upper left')\n",
    "plt.show()\n",
    "#summarize history for loss\n",
    "plt.plot(model_history.history['loss'])\n",
    "plt.plot(model_history.history['val_loss'])\n",
    "plt.title('model loss')\n",
    "plt.ylabel('loss')\n",
    "plt.xlabel('epoch')\n",
    "plt.legend(['train','test'],loc='upper left')\n",
    "plt.show()\n",
    "\n",
    "# Part 3 - Making the predictions and evaluating the model\n",
    "\n",
    "# Predicting the Test set results\n",
    "y_pred = classifier.predict(X_test)\n",
    "y_pred = (y_pred > 0.5)\n",
    "\n",
    "# Making the Confusion Matrix\n",
    "from sklearn.metrics import confusion_matrix\n",
    "cm = confusion_matrix(y_test, y_pred)\n",
    "\n",
    "# Calculate the Accuracy\n",
    "from sklearn.metrics import accuracy_score\n",
    "score=accuracy_score(y_pred,y_test)"
   ]
  },
  {
   "cell_type": "code",
   "execution_count": 8,
   "metadata": {
    "colab": {
     "base_uri": "https://localhost:8080/",
     "height": 68
    },
    "colab_type": "code",
    "executionInfo": {
     "elapsed": 3368,
     "status": "ok",
     "timestamp": 1592894688738,
     "user": {
      "displayName": "karthick natarajan",
      "photoUrl": "https://lh3.googleusercontent.com/a-/AOh14GhQaM2HGsf-1_an6OkM8fcNmuVYdeVXWyh1Sfgk=s64",
      "userId": "11952060404549717129"
     },
     "user_tz": -330
    },
    "id": "PzG5zcK73K8c",
    "outputId": "7a511555-fb08-4341-b9b9-3042a05e3c12"
   },
   "outputs": [
    {
     "name": "stdout",
     "output_type": "stream",
     "text": [
      "[[1507   88]\n",
      " [ 196  209]]\n",
      "0.858\n"
     ]
    }
   ],
   "source": [
    "print(cm)\n",
    "print(score)"
   ]
  },
  {
   "cell_type": "code",
   "execution_count": 11,
   "metadata": {
    "colab": {},
    "colab_type": "code",
    "executionInfo": {
     "elapsed": 1888,
     "status": "ok",
     "timestamp": 1592895480943,
     "user": {
      "displayName": "karthick natarajan",
      "photoUrl": "https://lh3.googleusercontent.com/a-/AOh14GhQaM2HGsf-1_an6OkM8fcNmuVYdeVXWyh1Sfgk=s64",
      "userId": "11952060404549717129"
     },
     "user_tz": -330
    },
    "id": "Y_Efclj13LJN"
   },
   "outputs": [],
   "source": [
    "# Importing the libraries\n",
    "import numpy as np\n",
    "import matplotlib.pyplot as plt\n",
    "import pandas as pd\n",
    "\n",
    "# Importing the dataset\n",
    "dataset = pd.read_csv('/content/drive/My Drive/Google colab/datasets_156197_358170_Churn_Modelling.csv')\n",
    "X = dataset.iloc[:, 3:13]\n",
    "y = dataset.iloc[:, 13]\n",
    "\n",
    "#Create dummy variables\n",
    "geography=pd.get_dummies(X[\"Geography\"],drop_first=True)\n",
    "gender=pd.get_dummies(X['Gender'],drop_first=True)\n",
    "\n",
    "## Concatenate the Data Frames\n",
    "\n",
    "X=pd.concat([X,geography,gender],axis=1)\n",
    "\n",
    "## Drop Unnecessary columns\n",
    "X=X.drop(['Geography','Gender'],axis=1)\n",
    "\n",
    "# Splitting the dataset into the Training set and Test set\n",
    "from sklearn.model_selection import train_test_split\n",
    "X_train, X_test, y_train, y_test = train_test_split(X, y, test_size = 0.2, random_state = 0)\n",
    "\n",
    "# Feature Scaling\n",
    "from sklearn.preprocessing import StandardScaler\n",
    "sc = StandardScaler()\n",
    "X_train = sc.fit_transform(X_train)\n",
    "X_test = sc.transform(X_test)\n",
    "\n",
    "## Perform Hyperparameter Optimization\n",
    "\n",
    "from keras.wrappers.scikit_learn import KerasClassifier\n",
    "from sklearn.model_selection import GridSearchCV\n",
    "\n",
    "from keras.models import Sequential\n",
    "from keras.layers import Dense, Activation, Embedding, Flatten, LeakyReLU, BatchNormalization, Dropout\n",
    "from keras.activations import relu, sigmoid\n",
    "\n",
    "\n",
    "\n",
    "def create_model(layers, activation):\n",
    "    model = Sequential()\n",
    "    for i, nodes in enumerate(layers):\n",
    "        if i==0:\n",
    "            model.add(Dense(nodes,input_dim=X_train.shape[1]))\n",
    "            model.add(Activation(activation))\n",
    "            model.add(Dropout(0.3))\n",
    "        else:\n",
    "            model.add(Dense(nodes))\n",
    "            model.add(Activation(activation))\n",
    "            model.add(Dropout(0.3))\n",
    "            \n",
    "    model.add(Dense(units = 1, kernel_initializer= 'glorot_uniform', activation = 'sigmoid')) # Note: no activation beyond this point\n",
    "    \n",
    "    model.compile(optimizer='adam', loss='binary_crossentropy',metrics=['accuracy'])\n",
    "    return model\n",
    "    \n",
    "model = KerasClassifier(build_fn=create_model, verbose=0)\n",
    "\n"
   ]
  },
  {
   "cell_type": "code",
   "execution_count": 20,
   "metadata": {
    "colab": {
     "base_uri": "https://localhost:8080/",
     "height": 34
    },
    "colab_type": "code",
    "executionInfo": {
     "elapsed": 2580,
     "status": "ok",
     "timestamp": 1592896175055,
     "user": {
      "displayName": "karthick natarajan",
      "photoUrl": "https://lh3.googleusercontent.com/a-/AOh14GhQaM2HGsf-1_an6OkM8fcNmuVYdeVXWyh1Sfgk=s64",
      "userId": "11952060404549717129"
     },
     "user_tz": -330
    },
    "id": "pHfaDQKUAqSw",
    "outputId": "873bdbcd-32c9-42bc-d2cf-66fc74c9c00b"
   },
   "outputs": [
    {
     "data": {
      "text/plain": [
       "<keras.wrappers.scikit_learn.KerasClassifier at 0x7f135a769dd8>"
      ]
     },
     "execution_count": 20,
     "metadata": {
      "tags": []
     },
     "output_type": "execute_result"
    }
   ],
   "source": [
    "model"
   ]
  },
  {
   "cell_type": "code",
   "execution_count": null,
   "metadata": {
    "colab": {},
    "colab_type": "code",
    "id": "xpRZuplrHO5Q"
   },
   "outputs": [],
   "source": [
    "batch_size = [10, 20, 40, 60, 80, 100]\n",
    "epochs = [10, 50, 100]\n",
    "layers = [[20,], [40, 20], [45, 30, 15]]\n",
    "activations = ['sigmoid', 'relu']\n",
    "param_grid = dict(batch_size=batch_size, epochs=epochs,layers=layers, activation=activations)\n",
    "grids = GridSearchCV(estimator=model, param_grid=param_grid, n_jobs=-1, cv=3)\n",
    "grid_result = grids.fit(X_train, y_train)"
   ]
  },
  {
   "cell_type": "code",
   "execution_count": 24,
   "metadata": {
    "colab": {
     "base_uri": "https://localhost:8080/",
     "height": 326
    },
    "colab_type": "code",
    "executionInfo": {
     "elapsed": 300543,
     "status": "error",
     "timestamp": 1592896881094,
     "user": {
      "displayName": "karthick natarajan",
      "photoUrl": "https://lh3.googleusercontent.com/a-/AOh14GhQaM2HGsf-1_an6OkM8fcNmuVYdeVXWyh1Sfgk=s64",
      "userId": "11952060404549717129"
     },
     "user_tz": -330
    },
    "id": "v8wHac6T3LM8",
    "outputId": "df8e8713-c07b-4a50-bd2a-9b6f5be93348"
   },
   "outputs": [
    {
     "ename": "RuntimeError",
     "evalue": "ignored",
     "output_type": "error",
     "traceback": [
      "\u001b[0;31m---------------------------------------------------------------------------\u001b[0m",
      "\u001b[0;31mRuntimeError\u001b[0m                              Traceback (most recent call last)",
      "\u001b[0;32m<ipython-input-24-af7ba4e48606>\u001b[0m in \u001b[0;36m<module>\u001b[0;34m()\u001b[0m\n\u001b[0;32m----> 1\u001b[0;31m \u001b[0mgrid_result\u001b[0m \u001b[0;34m=\u001b[0m \u001b[0mgrid\u001b[0m\u001b[0;34m.\u001b[0m\u001b[0mfit\u001b[0m\u001b[0;34m(\u001b[0m\u001b[0mX_train\u001b[0m\u001b[0;34m,\u001b[0m \u001b[0my_train\u001b[0m\u001b[0;34m)\u001b[0m\u001b[0;34m\u001b[0m\u001b[0;34m\u001b[0m\u001b[0m\n\u001b[0m",
      "\u001b[0;32m/usr/local/lib/python3.6/dist-packages/sklearn/model_selection/_search.py\u001b[0m in \u001b[0;36mfit\u001b[0;34m(self, X, y, groups, **fit_params)\u001b[0m\n\u001b[1;32m    734\u001b[0m             \u001b[0;31m# of the params are estimators as well.\u001b[0m\u001b[0;34m\u001b[0m\u001b[0;34m\u001b[0m\u001b[0;34m\u001b[0m\u001b[0m\n\u001b[1;32m    735\u001b[0m             self.best_estimator_ = clone(clone(base_estimator).set_params(\n\u001b[0;32m--> 736\u001b[0;31m                 **self.best_params_))\n\u001b[0m\u001b[1;32m    737\u001b[0m             \u001b[0mrefit_start_time\u001b[0m \u001b[0;34m=\u001b[0m \u001b[0mtime\u001b[0m\u001b[0;34m.\u001b[0m\u001b[0mtime\u001b[0m\u001b[0;34m(\u001b[0m\u001b[0;34m)\u001b[0m\u001b[0;34m\u001b[0m\u001b[0;34m\u001b[0m\u001b[0m\n\u001b[1;32m    738\u001b[0m             \u001b[0;32mif\u001b[0m \u001b[0my\u001b[0m \u001b[0;32mis\u001b[0m \u001b[0;32mnot\u001b[0m \u001b[0;32mNone\u001b[0m\u001b[0;34m:\u001b[0m\u001b[0;34m\u001b[0m\u001b[0;34m\u001b[0m\u001b[0m\n",
      "\u001b[0;32m/usr/local/lib/python3.6/dist-packages/sklearn/base.py\u001b[0m in \u001b[0;36mclone\u001b[0;34m(estimator, safe)\u001b[0m\n\u001b[1;32m     80\u001b[0m             raise RuntimeError('Cannot clone object %s, as the constructor '\n\u001b[1;32m     81\u001b[0m                                \u001b[0;34m'either does not set or modifies parameter %s'\u001b[0m \u001b[0;34m%\u001b[0m\u001b[0;34m\u001b[0m\u001b[0;34m\u001b[0m\u001b[0m\n\u001b[0;32m---> 82\u001b[0;31m                                (estimator, name))\n\u001b[0m\u001b[1;32m     83\u001b[0m     \u001b[0;32mreturn\u001b[0m \u001b[0mnew_object\u001b[0m\u001b[0;34m\u001b[0m\u001b[0;34m\u001b[0m\u001b[0m\n\u001b[1;32m     84\u001b[0m \u001b[0;34m\u001b[0m\u001b[0m\n",
      "\u001b[0;31mRuntimeError\u001b[0m: Cannot clone object <keras.wrappers.scikit_learn.KerasClassifier object at 0x7f127dfef128>, as the constructor either does not set or modifies parameter layers"
     ]
    }
   ],
   "source": [
    "grid_result = grid.fit(X_train, y_train)"
   ]
  },
  {
   "cell_type": "code",
   "execution_count": null,
   "metadata": {
    "colab": {},
    "colab_type": "code",
    "id": "EFuC1c2g3LG9"
   },
   "outputs": [],
   "source": [
    "\n",
    "[grid_result.best_score_,grid_result.best_params_]\n"
   ]
  },
  {
   "cell_type": "code",
   "execution_count": null,
   "metadata": {
    "colab": {},
    "colab_type": "code",
    "id": "LbVLyS9d3LFK"
   },
   "outputs": [],
   "source": []
  },
  {
   "cell_type": "code",
   "execution_count": null,
   "metadata": {
    "colab": {},
    "colab_type": "code",
    "id": "A3gJvY0J3LDe"
   },
   "outputs": [],
   "source": []
  },
  {
   "cell_type": "code",
   "execution_count": null,
   "metadata": {
    "colab": {},
    "colab_type": "code",
    "id": "i8PHEUts3LBF"
   },
   "outputs": [],
   "source": []
  },
  {
   "cell_type": "code",
   "execution_count": null,
   "metadata": {
    "colab": {},
    "colab_type": "code",
    "id": "PKAOY3XH3K6P"
   },
   "outputs": [],
   "source": []
  },
  {
   "cell_type": "code",
   "execution_count": null,
   "metadata": {
    "colab": {},
    "colab_type": "code",
    "id": "uqINndOs3K4K"
   },
   "outputs": [],
   "source": []
  },
  {
   "cell_type": "code",
   "execution_count": null,
   "metadata": {
    "colab": {},
    "colab_type": "code",
    "id": "iCZcoF_K3K2c"
   },
   "outputs": [],
   "source": []
  },
  {
   "cell_type": "code",
   "execution_count": null,
   "metadata": {
    "colab": {},
    "colab_type": "code",
    "id": "mMmuzg2H3K0a"
   },
   "outputs": [],
   "source": []
  },
  {
   "cell_type": "code",
   "execution_count": null,
   "metadata": {
    "colab": {},
    "colab_type": "code",
    "id": "aXQg_M9C3KuV"
   },
   "outputs": [],
   "source": []
  }
 ],
 "metadata": {
  "accelerator": "GPU",
  "colab": {
   "authorship_tag": "ABX9TyNGlsspNMBClrfIUYWuciN3",
   "collapsed_sections": [],
   "mount_file_id": "1Ns3cgPmnxpItvaVFJ_FwE0dEgbIo6Ne2",
   "name": "Untitled0.ipynb",
   "provenance": []
  },
  "kernelspec": {
   "display_name": "Python 3",
   "language": "python",
   "name": "python3"
  },
  "language_info": {
   "codemirror_mode": {
    "name": "ipython",
    "version": 3
   },
   "file_extension": ".py",
   "mimetype": "text/x-python",
   "name": "python",
   "nbconvert_exporter": "python",
   "pygments_lexer": "ipython3",
   "version": "3.7.3"
  }
 },
 "nbformat": 4,
 "nbformat_minor": 1
}
